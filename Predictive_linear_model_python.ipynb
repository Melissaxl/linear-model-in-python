{
  "cells": [
    {
      "cell_type": "code",
      "execution_count": null,
      "metadata": {
        "id": "4rroodL_tMHu"
      },
      "outputs": [],
      "source": [
        "import pandas as pd\n",
        "import numpy as np\n",
        "from sklearn.linear_model import LinearRegression\n",
        "from google.colab import drive, files\n",
        "import os\n",
        "import matplotlib.pyplot as plt\n",
        "import seaborn as sns\n",
        "from sklearn.linear_model import LinearRegression\n",
        "import statsmodels.api as sm\n"
      ]
    },
    {
      "cell_type": "code",
      "execution_count": null,
      "metadata": {
        "colab": {
          "base_uri": "https://localhost:8080/",
          "height": 73
        },
        "id": "u-IL3Mbxu96P",
        "outputId": "afa13c5c-ab5e-4f65-f818-ef248ee576c5"
      },
      "outputs": [],
      "source": [
        "uploaded=files.upload()"
      ]
    },
    {
      "cell_type": "code",
      "execution_count": null,
      "metadata": {
        "id": "Zvv1lwmvuBHJ"
      },
      "outputs": [],
      "source": [
        "for filename in uploaded.keys():\n",
        "  df=pd.read_excel(filename)\n",
        "\n",
        "grouped =df.groupby('track_id')\n"
      ]
    },
    {
      "cell_type": "code",
      "execution_count": null,
      "metadata": {
        "id": "iZQimN6PtMUh"
      },
      "outputs": [],
      "source": [
        "# Filter\n",
        "selected_ids=grouped.filter(lambda x: len(x)>=280)['track_id'].unique()\n",
        "filtered_data=df[df['track_id'].isin(selected_ids)]\n",
        "\n",
        "# Extract rows where t == 288\n",
        "result = filtered_data[filtered_data['t'] == 288]\n",
        "\n",
        "# Filter to include rows only when fil1's track_id is in result's track_id\n",
        "fil1 = filtered_data[filtered_data['track_id'].isin(result['track_id'].unique())]\n",
        "\n",
        "# Extract rows where t != 288\n",
        "input = fil1[fil1['t'] != 288]"
      ]
    },
    {
      "cell_type": "code",
      "execution_count": null,
      "metadata": {
        "id": "G3jaNiV2tVQn"
      },
      "outputs": [],
      "source": [
        "col = input.columns.get_loc('total_int_nuc')"
      ]
    },
    {
      "cell_type": "code",
      "execution_count": null,
      "metadata": {
        "colab": {
          "base_uri": "https://localhost:8080/"
        },
        "id": "iEmp0zUitMdf",
        "outputId": "9b3605d2-f8e1-4891-aa71-0fb2cba3cb31"
      },
      "outputs": [],
      "source": [
        "col = 'total_int_nuc'\n",
        "\n",
        "# Function to process each track_id\n",
        "def process_track_id(track_id, input, col):\n",
        "    input0 = input[input['track_id'] == track_id]\n",
        "    sum_MI = input0[col].sum()\n",
        "    mean_MI = input0[col].mean()\n",
        "    sd_MI = input0[col].std()\n",
        "    min_t = input0.loc[input0[col].idxmin(), 't']\n",
        "    max_t = input0.loc[input0[col].idxmax(), 't']\n",
        "\n",
        "    start_value = input0.loc[input0['t'].idxmin(), col]\n",
        "    end_value = input0.loc[input0['t'].idxmax(), col]\n",
        "\n",
        "    min_value = input0[col].min()\n",
        "    initial_min_fold = start_value / min_value\n",
        "    final_min_fold = end_value / min_value\n",
        "\n",
        "    fc_nomean = end_value / start_value\n",
        "    mean_start = input0[col].iloc[:5].mean()\n",
        "    fc_mean = end_value / mean_start\n",
        "\n",
        "    mean_deri = np.mean(np.abs(np.diff(input0[col])))\n",
        "\n",
        "    # Perform linear regression\n",
        "    X = input0[['t']]\n",
        "    y = input0[col]\n",
        "    lm = LinearRegression().fit(X, y)\n",
        "    slope = lm.coef_[0]\n",
        "    y_inter = lm.intercept_\n",
        "\n",
        "    # Calculate integral of the linear model\n",
        "    integral_lm = ((slope * (input0['t'].min() + input0['t'].max()) + 2 * y_inter) *\n",
        "                   (input0['t'].max() - input0['t'].min()) / 2)\n",
        "\n",
        "    # Compile results into a list\n",
        "    input_new = [track_id, sum_MI, mean_MI, sd_MI, mean_deri, min_t, max_t,\n",
        "                 start_value, end_value, fc_nomean, initial_min_fold, final_min_fold,\n",
        "                 mean_start, fc_mean, slope, integral_lm]\n",
        "\n",
        "    return input_new\n",
        "\n",
        "# Process each unique track_id and compile the results\n",
        "input_new = [process_track_id(track_id, input, col) for track_id in input['track_id'].unique()]\n",
        "\n",
        "# Convert the results to a DataFrame\n",
        "input_new_df = pd.DataFrame(input_new, columns=[\n",
        "    'track_id', 'sum_MI', 'mean_MI', 'sd_MI', 'mean_deri', 'min_t', 'max_t',\n",
        "    'start_value', 'end_value', 'foldchange_nomean', 'initial_min_fold', 'final_min_fold',\n",
        "    'mean_start', 'foldchange_mean', 'slope', 'integral_lm'\n",
        "])\n",
        "\n",
        "# print(input_new_df)\n"
      ]
    },
    {
      "cell_type": "code",
      "execution_count": null,
      "metadata": {
        "id": "TwhefFqF5OoX"
      },
      "outputs": [],
      "source": [
        "input_new_df.set_index('track_id', inplace=True)\n",
        "result.set_index('track_id', inplace=True)"
      ]
    },
    {
      "cell_type": "code",
      "execution_count": null,
      "metadata": {
        "id": "0_oP_WzfttU_"
      },
      "outputs": [],
      "source": [
        "dat = pd.concat([input_new_df, result['total_IL8']], axis=1)\n",
        "\n",
        "# Rename the last column to 'result'\n",
        "dat.columns.values[-1] = 'result'\n",
        "# print(dat)"
      ]
    },
    {
      "cell_type": "code",
      "execution_count": null,
      "metadata": {
        "colab": {
          "base_uri": "https://localhost:8080/"
        },
        "id": "OUSmcSwV8o-h",
        "outputId": "0e7ebcf3-788d-4ecb-80ad-d6217e6de381"
      },
      "outputs": [
        {
          "name": "stdout",
          "output_type": "stream",
          "text": [
            "                            OLS Regression Results                            \n",
            "==============================================================================\n",
            "Dep. Variable:                 result   R-squared:                       0.546\n",
            "Model:                            OLS   Adj. R-squared:                  0.520\n",
            "Method:                 Least Squares   F-statistic:                     21.50\n",
            "Date:                Thu, 01 Aug 2024   Prob (F-statistic):           5.97e-26\n",
            "Time:                        21:56:45   Log-Likelihood:                -2669.3\n",
            "No. Observations:                 190   AIC:                             5361.\n",
            "Df Residuals:                     179   BIC:                             5396.\n",
            "Df Model:                          10                                         \n",
            "Covariance Type:            nonrobust                                         \n",
            "=====================================================================================\n",
            "                        coef    std err          t      P>|t|      [0.025      0.975]\n",
            "-------------------------------------------------------------------------------------\n",
            "const              3.495e+05   1.56e+05      2.241      0.026    4.18e+04    6.57e+05\n",
            "mean_MI               5.7466      1.610      3.570      0.000       2.570       8.923\n",
            "sd_MI                -0.4608      0.169     -2.725      0.007      -0.794      -0.127\n",
            "mean_deri            19.0084      4.210      4.515      0.000      10.701      27.316\n",
            "start_value           0.8384      0.113      7.440      0.000       0.616       1.061\n",
            "foldchange_nomean  7.943e+05   1.93e+05      4.116      0.000    4.13e+05    1.18e+06\n",
            "slope                95.8669     16.082      5.961      0.000      64.132     127.602\n",
            "integral_lm          -0.0231      0.006     -3.927      0.000      -0.035      -0.012\n",
            "min_t              -175.3683    359.112     -0.488      0.626    -884.007     533.270\n",
            "max_t             -1143.2143    441.874     -2.587      0.010   -2015.168    -271.261\n",
            "final_min_fold    -4.143e+05   1.12e+05     -3.703      0.000   -6.35e+05   -1.94e+05\n",
            "==============================================================================\n",
            "Omnibus:                        6.718   Durbin-Watson:                   1.907\n",
            "Prob(Omnibus):                  0.035   Jarque-Bera (JB):                6.385\n",
            "Skew:                           0.417   Prob(JB):                       0.0411\n",
            "Kurtosis:                       3.335   Cond. No.                     7.22e+09\n",
            "==============================================================================\n",
            "\n",
            "Notes:\n",
            "[1] Standard Errors assume that the covariance matrix of the errors is correctly specified.\n",
            "[2] The condition number is large, 7.22e+09. This might indicate that there are\n",
            "strong multicollinearity or other numerical problems.\n"
          ]
        }
      ],
      "source": [
        "## don't use all of the input, select the most relavent and non-conflicting ones\n",
        "\n",
        "y = dat['result']\n",
        "\n",
        "# Define the independent variables (predictors)\n",
        "X = dat[['mean_MI', 'sd_MI', 'mean_deri', 'start_value', 'foldchange_nomean',\n",
        "         'slope', 'integral_lm', 'min_t', 'max_t', 'final_min_fold']]\n",
        "\n",
        "# Add a constant to the model (intercept)\n",
        "X = sm.add_constant(X)\n",
        "\n",
        "# Fit the linear model\n",
        "lm_total = sm.OLS(y, X).fit()\n",
        "\n",
        "# Output the summary of the linear model\n",
        "print(lm_total.summary())"
      ]
    },
    {
      "cell_type": "code",
      "execution_count": null,
      "metadata": {
        "id": "84eGT001ttf_"
      },
      "outputs": [],
      "source": []
    },
    {
      "cell_type": "markdown",
      "metadata": {
        "id": "vFRR3ZwlAI8W"
      },
      "source": []
    }
  ],
  "metadata": {
    "colab": {
      "provenance": []
    },
    "kernelspec": {
      "display_name": "Python 3",
      "name": "python3"
    },
    "language_info": {
      "name": "python"
    }
  },
  "nbformat": 4,
  "nbformat_minor": 0
}
