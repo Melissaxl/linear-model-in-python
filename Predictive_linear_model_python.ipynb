{
  "nbformat": 4,
  "nbformat_minor": 0,
  "metadata": {
    "colab": {
      "provenance": []
    },
    "kernelspec": {
      "name": "python3",
      "display_name": "Python 3"
    },
    "language_info": {
      "name": "python"
    }
  },
  "cells": [
    {
      "cell_type": "code",
      "source": [
        "import pandas as pd\n",
        "import numpy as np\n",
        "from sklearn.linear_model import LinearRegression\n",
        "from google.colab import drive, files\n",
        "import os\n",
        "import matplotlib.pyplot as plt\n",
        "import seaborn as sns\n",
        "from sklearn.linear_model import LinearRegression\n",
        "import statsmodels.api as sm\n"
      ],
      "metadata": {
        "id": "4rroodL_tMHu"
      },
      "execution_count": null,
      "outputs": []
    },
    {
      "cell_type": "code",
      "source": [
        "uploaded=files.upload()"
      ],
      "metadata": {
        "colab": {
          "base_uri": "https://localhost:8080/",
          "height": 73
        },
        "id": "u-IL3Mbxu96P",
        "outputId": "afa13c5c-ab5e-4f65-f818-ef248ee576c5"
      },
      "execution_count": null,
      "outputs": [
        {
          "output_type": "display_data",
          "data": {
            "text/plain": [
              "<IPython.core.display.HTML object>"
            ],
            "text/html": [
              "\n",
              "     <input type=\"file\" id=\"files-c2ec28a5-6d2a-4190-b5a5-37c350cd79f0\" name=\"files[]\" multiple disabled\n",
              "        style=\"border:none\" />\n",
              "     <output id=\"result-c2ec28a5-6d2a-4190-b5a5-37c350cd79f0\">\n",
              "      Upload widget is only available when the cell has been executed in the\n",
              "      current browser session. Please rerun this cell to enable.\n",
              "      </output>\n",
              "      <script>// Copyright 2017 Google LLC\n",
              "//\n",
              "// Licensed under the Apache License, Version 2.0 (the \"License\");\n",
              "// you may not use this file except in compliance with the License.\n",
              "// You may obtain a copy of the License at\n",
              "//\n",
              "//      http://www.apache.org/licenses/LICENSE-2.0\n",
              "//\n",
              "// Unless required by applicable law or agreed to in writing, software\n",
              "// distributed under the License is distributed on an \"AS IS\" BASIS,\n",
              "// WITHOUT WARRANTIES OR CONDITIONS OF ANY KIND, either express or implied.\n",
              "// See the License for the specific language governing permissions and\n",
              "// limitations under the License.\n",
              "\n",
              "/**\n",
              " * @fileoverview Helpers for google.colab Python module.\n",
              " */\n",
              "(function(scope) {\n",
              "function span(text, styleAttributes = {}) {\n",
              "  const element = document.createElement('span');\n",
              "  element.textContent = text;\n",
              "  for (const key of Object.keys(styleAttributes)) {\n",
              "    element.style[key] = styleAttributes[key];\n",
              "  }\n",
              "  return element;\n",
              "}\n",
              "\n",
              "// Max number of bytes which will be uploaded at a time.\n",
              "const MAX_PAYLOAD_SIZE = 100 * 1024;\n",
              "\n",
              "function _uploadFiles(inputId, outputId) {\n",
              "  const steps = uploadFilesStep(inputId, outputId);\n",
              "  const outputElement = document.getElementById(outputId);\n",
              "  // Cache steps on the outputElement to make it available for the next call\n",
              "  // to uploadFilesContinue from Python.\n",
              "  outputElement.steps = steps;\n",
              "\n",
              "  return _uploadFilesContinue(outputId);\n",
              "}\n",
              "\n",
              "// This is roughly an async generator (not supported in the browser yet),\n",
              "// where there are multiple asynchronous steps and the Python side is going\n",
              "// to poll for completion of each step.\n",
              "// This uses a Promise to block the python side on completion of each step,\n",
              "// then passes the result of the previous step as the input to the next step.\n",
              "function _uploadFilesContinue(outputId) {\n",
              "  const outputElement = document.getElementById(outputId);\n",
              "  const steps = outputElement.steps;\n",
              "\n",
              "  const next = steps.next(outputElement.lastPromiseValue);\n",
              "  return Promise.resolve(next.value.promise).then((value) => {\n",
              "    // Cache the last promise value to make it available to the next\n",
              "    // step of the generator.\n",
              "    outputElement.lastPromiseValue = value;\n",
              "    return next.value.response;\n",
              "  });\n",
              "}\n",
              "\n",
              "/**\n",
              " * Generator function which is called between each async step of the upload\n",
              " * process.\n",
              " * @param {string} inputId Element ID of the input file picker element.\n",
              " * @param {string} outputId Element ID of the output display.\n",
              " * @return {!Iterable<!Object>} Iterable of next steps.\n",
              " */\n",
              "function* uploadFilesStep(inputId, outputId) {\n",
              "  const inputElement = document.getElementById(inputId);\n",
              "  inputElement.disabled = false;\n",
              "\n",
              "  const outputElement = document.getElementById(outputId);\n",
              "  outputElement.innerHTML = '';\n",
              "\n",
              "  const pickedPromise = new Promise((resolve) => {\n",
              "    inputElement.addEventListener('change', (e) => {\n",
              "      resolve(e.target.files);\n",
              "    });\n",
              "  });\n",
              "\n",
              "  const cancel = document.createElement('button');\n",
              "  inputElement.parentElement.appendChild(cancel);\n",
              "  cancel.textContent = 'Cancel upload';\n",
              "  const cancelPromise = new Promise((resolve) => {\n",
              "    cancel.onclick = () => {\n",
              "      resolve(null);\n",
              "    };\n",
              "  });\n",
              "\n",
              "  // Wait for the user to pick the files.\n",
              "  const files = yield {\n",
              "    promise: Promise.race([pickedPromise, cancelPromise]),\n",
              "    response: {\n",
              "      action: 'starting',\n",
              "    }\n",
              "  };\n",
              "\n",
              "  cancel.remove();\n",
              "\n",
              "  // Disable the input element since further picks are not allowed.\n",
              "  inputElement.disabled = true;\n",
              "\n",
              "  if (!files) {\n",
              "    return {\n",
              "      response: {\n",
              "        action: 'complete',\n",
              "      }\n",
              "    };\n",
              "  }\n",
              "\n",
              "  for (const file of files) {\n",
              "    const li = document.createElement('li');\n",
              "    li.append(span(file.name, {fontWeight: 'bold'}));\n",
              "    li.append(span(\n",
              "        `(${file.type || 'n/a'}) - ${file.size} bytes, ` +\n",
              "        `last modified: ${\n",
              "            file.lastModifiedDate ? file.lastModifiedDate.toLocaleDateString() :\n",
              "                                    'n/a'} - `));\n",
              "    const percent = span('0% done');\n",
              "    li.appendChild(percent);\n",
              "\n",
              "    outputElement.appendChild(li);\n",
              "\n",
              "    const fileDataPromise = new Promise((resolve) => {\n",
              "      const reader = new FileReader();\n",
              "      reader.onload = (e) => {\n",
              "        resolve(e.target.result);\n",
              "      };\n",
              "      reader.readAsArrayBuffer(file);\n",
              "    });\n",
              "    // Wait for the data to be ready.\n",
              "    let fileData = yield {\n",
              "      promise: fileDataPromise,\n",
              "      response: {\n",
              "        action: 'continue',\n",
              "      }\n",
              "    };\n",
              "\n",
              "    // Use a chunked sending to avoid message size limits. See b/62115660.\n",
              "    let position = 0;\n",
              "    do {\n",
              "      const length = Math.min(fileData.byteLength - position, MAX_PAYLOAD_SIZE);\n",
              "      const chunk = new Uint8Array(fileData, position, length);\n",
              "      position += length;\n",
              "\n",
              "      const base64 = btoa(String.fromCharCode.apply(null, chunk));\n",
              "      yield {\n",
              "        response: {\n",
              "          action: 'append',\n",
              "          file: file.name,\n",
              "          data: base64,\n",
              "        },\n",
              "      };\n",
              "\n",
              "      let percentDone = fileData.byteLength === 0 ?\n",
              "          100 :\n",
              "          Math.round((position / fileData.byteLength) * 100);\n",
              "      percent.textContent = `${percentDone}% done`;\n",
              "\n",
              "    } while (position < fileData.byteLength);\n",
              "  }\n",
              "\n",
              "  // All done.\n",
              "  yield {\n",
              "    response: {\n",
              "      action: 'complete',\n",
              "    }\n",
              "  };\n",
              "}\n",
              "\n",
              "scope.google = scope.google || {};\n",
              "scope.google.colab = scope.google.colab || {};\n",
              "scope.google.colab._files = {\n",
              "  _uploadFiles,\n",
              "  _uploadFilesContinue,\n",
              "};\n",
              "})(self);\n",
              "</script> "
            ]
          },
          "metadata": {}
        },
        {
          "output_type": "stream",
          "name": "stdout",
          "text": [
            "Saving RPE24h_match_4i.xlsx to RPE24h_match_4i.xlsx\n"
          ]
        }
      ]
    },
    {
      "cell_type": "code",
      "source": [
        "for filename in uploaded.keys():\n",
        "  df=pd.read_excel(filename)\n",
        "\n",
        "grouped =df.groupby('track_id')\n"
      ],
      "metadata": {
        "id": "Zvv1lwmvuBHJ"
      },
      "execution_count": null,
      "outputs": []
    },
    {
      "cell_type": "code",
      "source": [
        "# Filter to keep only those groups with num >= 280\n",
        "selected_ids=grouped.filter(lambda x: len(x)>=280)['track_id'].unique()\n",
        "filtered_data=df[df['track_id'].isin(selected_ids)]\n",
        "\n",
        "# Extract rows where t == 288\n",
        "result = filtered_data[filtered_data['t'] == 288]\n",
        "\n",
        "# Filter random to include only rows where track_id is in result's track_id\n",
        "fil1 = filtered_data[filtered_data['track_id'].isin(result['track_id'].unique())]\n",
        "\n",
        "# Extract rows where t != 288\n",
        "input = fil1[fil1['t'] != 288]"
      ],
      "metadata": {
        "id": "iZQimN6PtMUh"
      },
      "execution_count": null,
      "outputs": []
    },
    {
      "cell_type": "code",
      "source": [
        "col = input.columns.get_loc('total_int_nuc')"
      ],
      "metadata": {
        "id": "G3jaNiV2tVQn"
      },
      "execution_count": null,
      "outputs": []
    },
    {
      "cell_type": "code",
      "source": [
        "col = 'total_int_nuc'\n",
        "\n",
        "# Function to process each track_id\n",
        "def process_track_id(track_id, input, col):\n",
        "    input0 = input[input['track_id'] == track_id]\n",
        "    sum_MI = input0[col].sum()\n",
        "    mean_MI = input0[col].mean()\n",
        "    sd_MI = input0[col].std()\n",
        "    min_t = input0.loc[input0[col].idxmin(), 't']\n",
        "    max_t = input0.loc[input0[col].idxmax(), 't']\n",
        "\n",
        "    start_value = input0.loc[input0['t'].idxmin(), col]\n",
        "    end_value = input0.loc[input0['t'].idxmax(), col]\n",
        "\n",
        "    min_value = input0[col].min()\n",
        "    initial_min_fold = start_value / min_value\n",
        "    final_min_fold = end_value / min_value\n",
        "\n",
        "    fc_nomean = end_value / start_value\n",
        "    mean_start = input0[col].iloc[:5].mean()\n",
        "    fc_mean = end_value / mean_start\n",
        "\n",
        "    mean_deri = np.mean(np.abs(np.diff(input0[col])))\n",
        "\n",
        "    # Perform linear regression\n",
        "    X = input0[['t']]\n",
        "    y = input0[col]\n",
        "    lm = LinearRegression().fit(X, y)\n",
        "    slope = lm.coef_[0]\n",
        "    y_inter = lm.intercept_\n",
        "\n",
        "    # Calculate integral of the linear model\n",
        "    integral_lm = ((slope * (input0['t'].min() + input0['t'].max()) + 2 * y_inter) *\n",
        "                   (input0['t'].max() - input0['t'].min()) / 2)\n",
        "\n",
        "    # Compile results into a list\n",
        "    input_new = [track_id, sum_MI, mean_MI, sd_MI, mean_deri, min_t, max_t,\n",
        "                 start_value, end_value, fc_nomean, initial_min_fold, final_min_fold,\n",
        "                 mean_start, fc_mean, slope, integral_lm]\n",
        "\n",
        "    return input_new\n",
        "\n",
        "# Process each unique track_id and compile the results\n",
        "input_new = [process_track_id(track_id, input, col) for track_id in input['track_id'].unique()]\n",
        "\n",
        "# Convert the results to a DataFrame\n",
        "input_new_df = pd.DataFrame(input_new, columns=[\n",
        "    'track_id', 'sum_MI', 'mean_MI', 'sd_MI', 'mean_deri', 'min_t', 'max_t',\n",
        "    'start_value', 'end_value', 'foldchange_nomean', 'initial_min_fold', 'final_min_fold',\n",
        "    'mean_start', 'foldchange_mean', 'slope', 'integral_lm'\n",
        "])\n",
        "\n",
        "print(input_new_df)\n"
      ],
      "metadata": {
        "colab": {
          "base_uri": "https://localhost:8080/"
        },
        "id": "iEmp0zUitMdf",
        "outputId": "9b3605d2-f8e1-4891-aa71-0fb2cba3cb31"
      },
      "execution_count": null,
      "outputs": [
        {
          "output_type": "stream",
          "name": "stdout",
          "text": [
            "     track_id        sum_MI       mean_MI          sd_MI     mean_deri  min_t  \\\n",
            "0          12  4.694084e+08  1.629890e+06  176490.923131  11820.299652    171   \n",
            "1          21  4.098993e+08  1.423261e+06  258969.645823  19848.362369    101   \n",
            "2          25  1.880573e+08  6.529766e+05   81682.306942   7823.919861    146   \n",
            "3          31  2.305486e+08  8.005160e+05   90290.161175   6754.689895    233   \n",
            "4          47  4.987559e+08  1.731791e+06  201970.077279  12526.505226     43   \n",
            "..        ...           ...           ...            ...           ...    ...   \n",
            "185      4793  3.140872e+08  1.117748e+06  155486.935556  20632.664286    218   \n",
            "186      4831  1.677426e+09  5.969488e+06  752709.537018  22726.971429    287   \n",
            "187      4995  4.007978e+08  1.431421e+06  371205.243572  19555.351254    236   \n",
            "188      5005  5.430182e+08  1.939351e+06  279488.659225  12997.741935    150   \n",
            "189      5290  3.278965e+08  1.175256e+06  112461.996284  12271.974820    282   \n",
            "\n",
            "     max_t  start_value  end_value  foldchange_nomean  initial_min_fold  \\\n",
            "0        0    2460745.0  1618667.0           0.657796          2.002243   \n",
            "1        0    2516786.0  1419478.0           0.564004          2.588341   \n",
            "2        0    1145127.0   660756.0           0.577015          2.192869   \n",
            "3        0    1230020.0   733378.0           0.596233          1.794989   \n",
            "4      286    1951449.0  2077140.0           1.064409          1.419890   \n",
            "..     ...          ...        ...                ...               ...   \n",
            "185      8     942078.0  1069054.0           1.134783          1.157584   \n",
            "186     92    6521730.0  4357432.0           0.668141          1.496691   \n",
            "187     14    2185871.0  1378578.0           0.630677          2.031422   \n",
            "188    287    2223421.0  2844495.0           1.279333          1.361255   \n",
            "189      9    1771042.0  1059005.0           0.597956          1.673198   \n",
            "\n",
            "     final_min_fold  mean_start  foldchange_mean        slope   integral_lm  \n",
            "0          1.317067   2308010.2         0.701326 -1287.197287  4.677785e+08  \n",
            "1          1.459835   2255085.6         0.629456 -1294.248783  4.084760e+08  \n",
            "2          1.265319   1014847.4         0.651089  -535.490790  1.874043e+08  \n",
            "3          1.070231   1151459.0         0.636912  -889.430465  2.297481e+08  \n",
            "4          1.511344   1845721.2         1.125381  2181.926368  4.970241e+08  \n",
            "..              ...         ...              ...          ...           ...  \n",
            "185        1.313607   1464200.2         0.730128 -1461.728574  3.129695e+08  \n",
            "186        1.000000   6465729.4         0.673927 -8555.357064  1.671457e+09  \n",
            "187        1.281171   2188170.6         0.630014 -3959.360566  3.993664e+08  \n",
            "188        1.741498   2141712.0         1.328141  1256.826944  5.410788e+08  \n",
            "189        1.000499   1607902.8         0.658625 -1181.135705  3.267213e+08  \n",
            "\n",
            "[190 rows x 16 columns]\n"
          ]
        }
      ]
    },
    {
      "cell_type": "code",
      "source": [
        "input_new_df.set_index('track_id', inplace=True)\n",
        "result.set_index('track_id', inplace=True)"
      ],
      "metadata": {
        "id": "TwhefFqF5OoX"
      },
      "execution_count": null,
      "outputs": []
    },
    {
      "cell_type": "code",
      "source": [
        "dat = pd.concat([input_new_df, result['total_IL8']], axis=1)\n",
        "\n",
        "# Rename the last column to 'result'\n",
        "dat.columns.values[-1] = 'result'\n",
        "# print(dat)"
      ],
      "metadata": {
        "id": "0_oP_WzfttU_"
      },
      "execution_count": null,
      "outputs": []
    },
    {
      "cell_type": "code",
      "source": [
        "## don't use all of the input, select the most relavent and non-conflicting ones\n",
        "\n",
        "y = dat['result']\n",
        "\n",
        "# Define the independent variables (predictors)\n",
        "X = dat[['mean_MI', 'sd_MI', 'mean_deri', 'start_value', 'foldchange_nomean',\n",
        "         'slope', 'integral_lm', 'min_t', 'max_t', 'final_min_fold']]\n",
        "\n",
        "# Add a constant to the model (intercept)\n",
        "X = sm.add_constant(X)\n",
        "\n",
        "# Fit the linear model\n",
        "lm_total = sm.OLS(y, X).fit()\n",
        "\n",
        "# Output the summary of the linear model\n",
        "print(lm_total.summary())"
      ],
      "metadata": {
        "colab": {
          "base_uri": "https://localhost:8080/"
        },
        "outputId": "0e7ebcf3-788d-4ecb-80ad-d6217e6de381",
        "id": "OUSmcSwV8o-h"
      },
      "execution_count": null,
      "outputs": [
        {
          "output_type": "stream",
          "name": "stdout",
          "text": [
            "                            OLS Regression Results                            \n",
            "==============================================================================\n",
            "Dep. Variable:                 result   R-squared:                       0.546\n",
            "Model:                            OLS   Adj. R-squared:                  0.520\n",
            "Method:                 Least Squares   F-statistic:                     21.50\n",
            "Date:                Thu, 01 Aug 2024   Prob (F-statistic):           5.97e-26\n",
            "Time:                        21:56:45   Log-Likelihood:                -2669.3\n",
            "No. Observations:                 190   AIC:                             5361.\n",
            "Df Residuals:                     179   BIC:                             5396.\n",
            "Df Model:                          10                                         \n",
            "Covariance Type:            nonrobust                                         \n",
            "=====================================================================================\n",
            "                        coef    std err          t      P>|t|      [0.025      0.975]\n",
            "-------------------------------------------------------------------------------------\n",
            "const              3.495e+05   1.56e+05      2.241      0.026    4.18e+04    6.57e+05\n",
            "mean_MI               5.7466      1.610      3.570      0.000       2.570       8.923\n",
            "sd_MI                -0.4608      0.169     -2.725      0.007      -0.794      -0.127\n",
            "mean_deri            19.0084      4.210      4.515      0.000      10.701      27.316\n",
            "start_value           0.8384      0.113      7.440      0.000       0.616       1.061\n",
            "foldchange_nomean  7.943e+05   1.93e+05      4.116      0.000    4.13e+05    1.18e+06\n",
            "slope                95.8669     16.082      5.961      0.000      64.132     127.602\n",
            "integral_lm          -0.0231      0.006     -3.927      0.000      -0.035      -0.012\n",
            "min_t              -175.3683    359.112     -0.488      0.626    -884.007     533.270\n",
            "max_t             -1143.2143    441.874     -2.587      0.010   -2015.168    -271.261\n",
            "final_min_fold    -4.143e+05   1.12e+05     -3.703      0.000   -6.35e+05   -1.94e+05\n",
            "==============================================================================\n",
            "Omnibus:                        6.718   Durbin-Watson:                   1.907\n",
            "Prob(Omnibus):                  0.035   Jarque-Bera (JB):                6.385\n",
            "Skew:                           0.417   Prob(JB):                       0.0411\n",
            "Kurtosis:                       3.335   Cond. No.                     7.22e+09\n",
            "==============================================================================\n",
            "\n",
            "Notes:\n",
            "[1] Standard Errors assume that the covariance matrix of the errors is correctly specified.\n",
            "[2] The condition number is large, 7.22e+09. This might indicate that there are\n",
            "strong multicollinearity or other numerical problems.\n"
          ]
        }
      ]
    },
    {
      "cell_type": "code",
      "source": [],
      "metadata": {
        "id": "84eGT001ttf_"
      },
      "execution_count": null,
      "outputs": []
    },
    {
      "cell_type": "code",
      "execution_count": null,
      "metadata": {
        "id": "13eRgaG57-tA"
      },
      "outputs": [],
      "source": []
    },
    {
      "cell_type": "code",
      "source": [],
      "metadata": {
        "id": "-FTZEidPvksk"
      },
      "execution_count": null,
      "outputs": []
    },
    {
      "cell_type": "markdown",
      "source": [],
      "metadata": {
        "id": "vFRR3ZwlAI8W"
      }
    }
  ]
}